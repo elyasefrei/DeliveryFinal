{
 "cells": [
  {
   "cell_type": "code",
   "execution_count": null,
   "id": "17dd4b57-9cde-4dc8-8df1-0d98d672d7d0",
   "metadata": {
    "ExecuteTime": {
     "end_time": "2025-05-23T07:38:50.878500700Z",
     "start_time": "2025-05-23T07:38:50.872755100Z"
    }
   },
   "outputs": [],
   "source": [
    "import os\n",
    "import numpy as np\n",
    "import pandas as pd\n",
    "import matplotlib.pyplot as plt\n",
    "from sklearn.model_selection import train_test_split\n",
    "from tensorflow.keras.preprocessing.image import ImageDataGenerator\n",
    "from tensorflow.keras.applications import EfficientNetB0\n",
    "from tensorflow.keras.layers import Dense, GlobalAveragePooling2D, Dropout\n",
    "from tensorflow.keras.models import Model\n",
    "from tensorflow.keras.optimizers import Adam\n",
    "from tensorflow.keras.callbacks import EarlyStopping, ModelCheckpoint\n",
    "import tensorflow as tf"
   ]
  },
  {
   "cell_type": "code",
   "execution_count": null,
   "id": "d418d9d5-3b69-47f4-a566-23f9fd4c7f82",
   "metadata": {
    "ExecuteTime": {
     "start_time": "2025-05-23T07:38:50.877211900Z"
    }
   },
   "outputs": [],
   "source": [
    "# datasets\n",
    "ACNE_PATH = \"Dataset/Acne\"\n",
    "PSORIASIS_PATH = \"Dataset/Psoriasis\"\n",
    "ECZEMA_PATH = \"Dataset/Eczema\""
   ]
  },
  {
   "cell_type": "code",
   "execution_count": null,
   "id": "e3bb45f1-b0ea-48c2-893c-f293bd851f2d",
   "metadata": {
    "ExecuteTime": {
     "start_time": "2025-05-23T07:38:50.877211900Z"
    }
   },
   "outputs": [],
   "source": [
    "# Création d'un dataframe pour organiser les images et leurs labels\n",
    "def create_dataframe(acne_path, psoriasis_path, eczema_path):\n",
    "    data = []\n",
    "    \n",
    "    # Ajout des images d'acné\n",
    "    for img_name in os.listdir(acne_path):\n",
    "        if img_name.endswith(('.jpg', '.jpeg', '.png')):\n",
    "            data.append({\n",
    "                'image_path': os.path.join(acne_path, img_name),\n",
    "                'label': 'acne'\n",
    "            })\n",
    "    \n",
    "    # Ajout des images de psoriasis\n",
    "    for img_name in os.listdir(psoriasis_path):\n",
    "        if img_name.endswith(('.jpg', '.jpeg', '.png')):\n",
    "            data.append({\n",
    "                'image_path': os.path.join(psoriasis_path, img_name),\n",
    "                'label': 'psoriasis'\n",
    "            })\n",
    "    \n",
    "    # Ajout des images d'eczéma\n",
    "    for img_name in os.listdir(eczema_path):\n",
    "        if img_name.endswith(('.jpg', '.jpeg', '.png')):\n",
    "            data.append({\n",
    "                'image_path': os.path.join(eczema_path, img_name),\n",
    "                'label': 'eczema'\n",
    "            })\n",
    "    \n",
    "    return pd.DataFrame(data)\n",
    "\n",
    "# Création du dataframe\n",
    "df = create_dataframe(ACNE_PATH, PSORIASIS_PATH, ECZEMA_PATH)\n",
    "\n",
    "# Vérification de la distribution des classes\n",
    "print(df['label'].value_counts())\n",
    "\n",
    "# Division en train, validation et test sets\n",
    "train_df, temp_df = train_test_split(df, test_size=0.3, stratify=df['label'], random_state=42)\n",
    "val_df, test_df = train_test_split(temp_df, test_size=0.5, stratify=temp_df['label'], random_state=42)\n",
    "\n",
    "# Paramètres pour le prétraitement des images\n",
    "IMG_SIZE = (224, 224)\n",
    "BATCH_SIZE = 32\n",
    "\n",
    "# Augmentation des données pour l'ensemble d'entraînement\n",
    "train_datagen = ImageDataGenerator(\n",
    "    rescale=1./255,\n",
    "    rotation_range=20,\n",
    "    width_shift_range=0.2,\n",
    "    height_shift_range=0.2,\n",
    "    shear_range=0.2,\n",
    "    zoom_range=0.2,\n",
    "    horizontal_flip=True,\n",
    "    fill_mode='nearest'\n",
    ")\n"
   ]
  },
  {
   "cell_type": "code",
   "execution_count": null,
   "id": "3e5fe69b-eb87-4269-a082-1a3842d07a1d",
   "metadata": {
    "ExecuteTime": {
     "start_time": "2025-05-23T07:38:50.877211900Z"
    }
   },
   "outputs": [],
   "source": [
    "# Pas d'augmentation pour la validation et le test\n",
    "val_test_datagen = ImageDataGenerator(rescale=1./255)\n",
    "\n",
    "# Générateurs de données\n",
    "train_generator = train_datagen.flow_from_dataframe(\n",
    "    dataframe=train_df,\n",
    "    x_col='image_path',\n",
    "    y_col='label',\n",
    "    target_size=IMG_SIZE,\n",
    "    batch_size=BATCH_SIZE,\n",
    "    class_mode='categorical'\n",
    ")\n",
    "\n",
    "val_generator = val_test_datagen.flow_from_dataframe(\n",
    "    dataframe=val_df,\n",
    "    x_col='image_path',\n",
    "    y_col='label',\n",
    "    target_size=IMG_SIZE,\n",
    "    batch_size=BATCH_SIZE,\n",
    "    class_mode='categorical',\n",
    "    shuffle=False\n",
    ")\n",
    "\n",
    "test_generator = val_test_datagen.flow_from_dataframe(\n",
    "    dataframe=test_df,\n",
    "    x_col='image_path',\n",
    "    y_col='label',\n",
    "    target_size=IMG_SIZE,\n",
    "    batch_size=BATCH_SIZE,\n",
    "    class_mode='categorical',\n",
    "    shuffle=False\n",
    ")"
   ]
  },
  {
   "cell_type": "markdown",
   "id": "5eb51c8b-532b-40b2-b13d-f8f261658493",
   "metadata": {},
   "source": [
    "# Construction du modèle"
   ]
  },
  {
   "cell_type": "code",
   "execution_count": null,
   "id": "123791b8-da9f-4864-8075-980cbb7f6a98",
   "metadata": {
    "ExecuteTime": {
     "start_time": "2025-05-23T07:38:50.878500700Z"
    }
   },
   "outputs": [],
   "source": [
    "def build_model(num_classes):\n",
    "    # Chargement du modèle pré-entraîné EfficientNetB0\n",
    "    base_model = EfficientNetB0(\n",
    "        weights='imagenet',\n",
    "        include_top=False,\n",
    "        input_shape=(IMG_SIZE[0], IMG_SIZE[1], 3)\n",
    "    )\n",
    "    \n",
    "    # Congélation des couches du modèle de base\n",
    "    base_model.trainable = False\n",
    "    \n",
    "    # Ajout de nouvelles couches pour la classification\n",
    "    inputs = tf.keras.Input(shape=(IMG_SIZE[0], IMG_SIZE[1], 3))\n",
    "    x = base_model(inputs, training=False)\n",
    "    x = GlobalAveragePooling2D()(x)\n",
    "    x = Dense(256, activation='relu')(x)\n",
    "    x = Dropout(0.5)(x)\n",
    "    outputs = Dense(num_classes, activation='softmax')(x)\n",
    "    \n",
    "    model = Model(inputs, outputs)\n",
    "    \n",
    "    return model\n",
    "\n",
    "# Construction du modèle\n",
    "num_classes = len(train_generator.class_indices)\n",
    "model = build_model(num_classes)\n",
    "\n",
    "# Compilation du modèle\n",
    "model.compile(\n",
    "    optimizer=Adam(learning_rate=0.001),\n",
    "    loss='categorical_crossentropy',\n",
    "    metrics=['accuracy']\n",
    ")\n"
   ]
  },
  {
   "cell_type": "code",
   "execution_count": null,
   "id": "06674a90-9874-48d1-9d1a-8cfff2a36eda",
   "metadata": {
    "ExecuteTime": {
     "start_time": "2025-05-23T07:38:50.878500700Z"
    }
   },
   "outputs": [],
   "source": [
    "# Affichage de l'architecture du modèle\n",
    "model.summary()"
   ]
  },
  {
   "cell_type": "markdown",
   "id": "23aacb25-81de-4527-9f23-73d9f4ad102c",
   "metadata": {},
   "source": [
    "# Entraînement du modèle"
   ]
  },
  {
   "cell_type": "code",
   "execution_count": null,
   "id": "d6db9f17-bf0f-4510-aaac-b62bd6bbf4df",
   "metadata": {
    "ExecuteTime": {
     "end_time": "2025-05-23T07:38:50.918528800Z",
     "start_time": "2025-05-23T07:38:50.880057100Z"
    }
   },
   "outputs": [],
   "source": [
    "early_stopping = EarlyStopping(\n",
    "    monitor='val_loss',\n",
    "    patience=5,\n",
    "    restore_best_weights=True\n",
    ")\n",
    "\n",
    "model_checkpoint = ModelCheckpoint(\n",
    "    'best_model.h5',\n",
    "    monitor='val_accuracy',\n",
    "    save_best_only=True,\n",
    "    mode='max'\n",
    ")\n",
    "\n",
    "# Entraînement\n",
    "history = model.fit(\n",
    "    train_generator,\n",
    "    steps_per_epoch=train_generator.n // train_generator.batch_size,\n",
    "    epochs=30,\n",
    "    validation_data=val_generator,\n",
    "    validation_steps=val_generator.n // val_generator.batch_size,\n",
    "    callbacks=[early_stopping, model_checkpoint]\n",
    ")"
   ]
  },
  {
   "cell_type": "code",
   "execution_count": null,
   "id": "84168024-3350-4559-b47f-53365e48f783",
   "metadata": {
    "ExecuteTime": {
     "start_time": "2025-05-23T07:38:50.891621200Z"
    }
   },
   "outputs": [],
   "source": [
    "# Sauvegarde du modèle final\n",
    "model.save('dermatology_model.h5')"
   ]
  },
  {
   "cell_type": "markdown",
   "id": "0759e7eb-4601-45c3-8ac0-7cf7765f2830",
   "metadata": {},
   "source": [
    "# Évaluation du modèle"
   ]
  },
  {
   "cell_type": "code",
   "execution_count": null,
   "id": "d7fd605d-84c9-4b91-8914-14c6340f1649",
   "metadata": {
    "ExecuteTime": {
     "start_time": "2025-05-23T07:38:50.891621200Z"
    }
   },
   "outputs": [],
   "source": [
    "# Fonction pour afficher l'historique d'entraînement\n",
    "def plot_training_history(history):\n",
    "    plt.figure(figsize=(12, 4))\n",
    "    \n",
    "    # Courbe de précision\n",
    "    plt.subplot(1, 2, 1)\n",
    "    plt.plot(history.history['accuracy'], label='Train Accuracy')\n",
    "    plt.plot(history.history['val_accuracy'], label='Validation Accuracy')\n",
    "    plt.title('Accuracy over epochs')\n",
    "    plt.ylabel('Accuracy')\n",
    "    plt.xlabel('Epoch')\n",
    "    plt.legend()\n",
    "    \n",
    "    # Courbe de loss\n",
    "    plt.subplot(1, 2, 2)\n",
    "    plt.plot(history.history['loss'], label='Train Loss')\n",
    "    plt.plot(history.history['val_loss'], label='Validation Loss')\n",
    "    plt.title('Loss over epochs')\n",
    "    plt.ylabel('Loss')\n",
    "    plt.xlabel('Epoch')\n",
    "    plt.legend()\n",
    "    \n",
    "    plt.tight_layout()\n",
    "    plt.show()\n",
    "\n",
    "# Affichage des courbes d'apprentissage\n",
    "plot_training_history(history)\n",
    "\n",
    "# Évaluation sur l'ensemble de test\n",
    "test_loss, test_acc = model.evaluate(test_generator)\n",
    "print(f\"Test Accuracy: {test_acc:.4f}\")\n",
    "print(f\"Test Loss: {test_loss:.4f}\")"
   ]
  },
  {
   "cell_type": "code",
   "execution_count": null,
   "id": "7fdfbb52-6ccf-4fbd-9fd1-d6d3d45f88e9",
   "metadata": {
    "ExecuteTime": {
     "start_time": "2025-05-23T07:38:50.891621200Z"
    }
   },
   "outputs": [],
   "source": [
    "# Matrice de confusion\n",
    "from sklearn.metrics import classification_report, confusion_matrix\n",
    "import seaborn as sns\n",
    "\n",
    "# Prédictions sur l'ensemble de test\n",
    "test_generator.reset()\n",
    "y_pred = model.predict(test_generator)\n",
    "y_pred_classes = np.argmax(y_pred, axis=1)\n",
    "y_true = test_generator.classes\n",
    "\n",
    "# Noms des classes\n",
    "class_names = list(test_generator.class_indices.keys())\n",
    "\n",
    "# Matrice de confusion\n",
    "conf_mat = confusion_matrix(y_true, y_pred_classes)\n",
    "plt.figure(figsize=(8, 6))\n",
    "sns.heatmap(conf_mat, annot=True, fmt='d', cmap='Blues',\n",
    "            xticklabels=class_names, yticklabels=class_names)\n",
    "plt.title('Confusion Matrix')\n",
    "plt.ylabel('True Label')\n",
    "plt.xlabel('Predicted Label')\n",
    "plt.show()"
   ]
  },
  {
   "cell_type": "code",
   "execution_count": null,
   "id": "6fdd5549-fc19-40c4-81c7-20265e3c2ac6",
   "metadata": {
    "ExecuteTime": {
     "start_time": "2025-05-23T07:38:50.891621200Z"
    }
   },
   "outputs": [],
   "source": [
    "# Rapport de classification\n",
    "print(classification_report(y_true, y_pred_classes, target_names=class_names))"
   ]
  },
  {
   "cell_type": "markdown",
   "id": "806f4a58-1298-4734-b443-c5069b3d1c7a",
   "metadata": {},
   "source": [
    "# Fonction de prédiction sur de nouvelles images"
   ]
  },
  {
   "cell_type": "code",
   "execution_count": null,
   "id": "3a962028-1e59-404a-b2a5-aaad63959c1e",
   "metadata": {
    "ExecuteTime": {
     "start_time": "2025-05-23T07:38:50.892622700Z"
    }
   },
   "outputs": [],
   "source": [
    "from tensorflow.keras.preprocessing import image\n",
    "\n",
    "def predict_skin_disease(image_path, model, class_names):\n",
    "    \"\"\"\n",
    "    Prédit la maladie dermatologique à partir d'une image\n",
    "    \n",
    "    Args:\n",
    "        image_path: chemin vers l'image à analyser\n",
    "        model: modèle entraîné\n",
    "        class_names: liste des noms des classes\n",
    "        \n",
    "    Returns:\n",
    "        Dictionnaire avec les probabilités pour chaque classe\n",
    "    \"\"\"\n",
    "    # Chargement et prétraitement de l'image\n",
    "    img = image.load_img(image_path, target_size=IMG_SIZE)\n",
    "    img_array = image.img_to_array(img)\n",
    "    img_array = np.expand_dims(img_array, axis=0)\n",
    "    img_array /= 255.0\n",
    "    \n",
    "    # Prédiction\n",
    "    predictions = model.predict(img_array)\n",
    "    \n",
    "    # Création du résultat\n",
    "    result = {class_names[i]: float(predictions[0][i]) for i in range(len(class_names))}\n",
    "    \n",
    "    return result"
   ]
  },
  {
   "cell_type": "code",
   "execution_count": null,
   "id": "f808affa-dc81-4155-b999-bf2030cc0a0d",
   "metadata": {
    "ExecuteTime": {
     "start_time": "2025-05-23T07:38:50.892622700Z"
    }
   },
   "outputs": [],
   "source": [
    "# Exemple d'utilisation\n",
    "new_image_path = \"chemin/vers/nouvelle_image.jpg\"\n",
    "predictions = predict_skin_disease(new_image_path, model, class_names)\n",
    "print(\"Résultats de la prédiction:\")\n",
    "for disease, prob in predictions.items():\n",
    "    print(f\"{disease}: {prob:.2%}\")"
   ]
  }
 ],
 "metadata": {
  "kernelspec": {
   "display_name": "Python 3",
   "language": "python",
   "name": "python3"
  },
  "language_info": {
   "codemirror_mode": {
    "name": "ipython",
    "version": 3
   },
   "file_extension": ".py",
   "mimetype": "text/x-python",
   "name": "python",
   "nbconvert_exporter": "python",
   "pygments_lexer": "ipython3",
   "version": "3.12.10"
  }
 },
 "nbformat": 4,
 "nbformat_minor": 5
}
